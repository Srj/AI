{
  "nbformat": 4,
  "nbformat_minor": 0,
  "metadata": {
    "colab": {
      "name": "Transformers.ipynb",
      "provenance": [],
      "collapsed_sections": []
    },
    "kernelspec": {
      "name": "python3",
      "display_name": "Python 3"
    },
    "accelerator": "GPU"
  },
  "cells": [
    {
      "cell_type": "code",
      "metadata": {
        "id": "pWZWO_4lCerW",
        "colab_type": "code",
        "colab": {}
      },
      "source": [
        "import math\n",
        "import torch\n",
        "import torch.nn as nn\n",
        "import torch.nn.functional as F\n",
        "\n",
        "class TransformerModel(nn.Module):\n",
        "    def __init__(self,ntoken,ninp,nhead,nhid,nlayers,dropout=0.5):\n",
        "        super(TransformerModel,self).__init__()\n",
        "        from torch.nn import TransformerEncoder,TransformerEncoderLayer\n",
        "        self.model_type = 'Transformer'\n",
        "        self.src_mask = None\n",
        "        self.pos_encoder = PositionalEncoding(ninp,dropout)\n",
        "        encoder_layers = TransformerEncoderLayer(ninp,nhead,nhid,dropout)\n",
        "        self.transformer_encoder = TransformerEncoder(encoder_layers,nlayers)\n",
        "        self.encoder = nn.Embedding(ntoken,ninp)\n",
        "        self.ninp = ninp \n",
        "        self.decoder = nn.Linear(ninp,ntoken)\n",
        "\n",
        "        self.init_weights()\n",
        "\n",
        "    def init_weights(self):\n",
        "        initrange = 0.1\n",
        "        self.encoder.weight.data.uniform_(-initrange,initrange)\n",
        "        self.decoder.bias.data.zero_()\n",
        "        self.decoder.weight.data.uniform_(-initrange,initrange)\n",
        "\n",
        "    def _generate_square_subsequent_mask(self,sz):\n",
        "        mask = (torch.triu(torch.ones(sz,sz)) == 1).transpose(0,1)\n",
        "        mask = mask.float().masked_fill(mask ==0 , float('-inf')).masked_fill(mask == 1 , float(0.0))\n",
        "        return mask\n",
        "\n",
        "    def forward(self,src):\n",
        "        if self.src_mask is None or self.src_mask.size[0] != len(src):\n",
        "            device = src.device\n",
        "            mask = self._generate_square_subsequent_mask(len(src)).to(device)\n",
        "            self.mask = mask\n",
        "\n",
        "        src = self.encoder(src) * math.sqrt(self.ninp)\n",
        "        src = self.pos_encoder(src)\n",
        "        output = self.transformer_encoder(src,self.mask)\n",
        "        output = self.decoder(output)\n",
        "        return output\n",
        "\n",
        "\n",
        "        \n"
      ],
      "execution_count": 0,
      "outputs": []
    },
    {
      "cell_type": "code",
      "metadata": {
        "id": "cNVmSnzHfWPa",
        "colab_type": "code",
        "colab": {}
      },
      "source": [
        "class PositionalEncoding(nn.Module):\n",
        "    def __init__(self,d_model,dropout=0.1,max_len=5000):\n",
        "        super(PositionalEncoding,self).__init__()\n",
        "        self.dropout = nn.Dropout(p=dropout)\n",
        "        pe = torch.zeros(max_len,d_model)\n",
        "        position = torch.arange(0,max_len,dtype=torch.float).unsqueeze(1)\n",
        "        div_term = torch.exp(torch.arange(0,d_model,2).float() * (-math.log(10000.0) / d_model))\n",
        "        pe[:,0::2] = torch.sin(position * div_term)\n",
        "        pe[:,1::2] = torch.cos(position * div_term)\n",
        "        pe = pe.unsqueeze(0).transpose(0,1)\n",
        "        self.register_buffer('pe',pe)\n",
        "\n",
        "    def forward(self,x):\n",
        "        x = x + self.pe[:x.size(0),:]\n",
        "        return self.dropout(x)"
      ],
      "execution_count": 0,
      "outputs": []
    },
    {
      "cell_type": "code",
      "metadata": {
        "id": "vqHMNXx3lgxZ",
        "colab_type": "code",
        "colab": {
          "base_uri": "https://localhost:8080/",
          "height": 68
        },
        "outputId": "4e8f9b2b-d33a-4496-e316-57775e4a314c"
      },
      "source": [
        "import torchtext\n",
        "from torchtext.data.utils import get_tokenizer\n",
        "\n",
        "TEXT = torchtext.data.Field(tokenize=get_tokenizer('spacy'),init_token='<sos>',eos_token='<eos>',lower=True)\n",
        "train_txt,val_txt,test_txt = torchtext.datasets.WikiText2.splits(TEXT)\n",
        "TEXT.build_vocab(train_txt)\n",
        "device = torch.device(\"cuda\" if torch.cuda.is_available() else \"cpu\")\n",
        "\n",
        "def batchify(data,bsz):\n",
        "    data = TEXT.numericalize([data.examples[0].text])\n",
        "    nbatch = data.size(0) // bsz\n",
        "    data = data.narrow(0,0,nbatch*bsz)\n",
        "    data = data.view(bsz,-1).t().contiguous()\n",
        "    return data.to(device)\n",
        "\n",
        "batch_size = 20\n",
        "eval_batch_size = 10\n",
        "train_data = batchify(train_txt,batch_size)\n",
        "val_data = batchify(val_txt,eval_batch_size)\n",
        "test_data = batchify(test_txt,eval_batch_size)"
      ],
      "execution_count": 3,
      "outputs": [
        {
          "output_type": "stream",
          "text": [
            "downloading wikitext-2-v1.zip\n"
          ],
          "name": "stdout"
        },
        {
          "output_type": "stream",
          "text": [
            "wikitext-2-v1.zip: 100%|██████████| 4.48M/4.48M [00:00<00:00, 5.99MB/s]\n"
          ],
          "name": "stderr"
        },
        {
          "output_type": "stream",
          "text": [
            "extracting\n"
          ],
          "name": "stdout"
        }
      ]
    },
    {
      "cell_type": "code",
      "metadata": {
        "id": "pwIeWHEQzVMw",
        "colab_type": "code",
        "colab": {}
      },
      "source": [
        "bptt = 35\n",
        "def get_batch(source,i):\n",
        "    seq_len = min(bptt,len(source)- 1 - i)\n",
        "    data = source[i:i+seq_len]\n",
        "    target = source[i+1:i+1+seq_len].view(-1)\n",
        "    return data,target"
      ],
      "execution_count": 0,
      "outputs": []
    },
    {
      "cell_type": "code",
      "metadata": {
        "id": "QLiQ3qMtk-T5",
        "colab_type": "code",
        "colab": {}
      },
      "source": [
        "ntokens = len(TEXT.vocab.stoi)\n",
        "emsize = 200\n",
        "nhid = 200\n",
        "nlayers = 2\n",
        "nhead = 2\n",
        "dropout = 0.2\n",
        "model = TransformerModel(ntokens,emsize,nhead,nhid,nlayers,dropout).to(device)\n"
      ],
      "execution_count": 0,
      "outputs": []
    },
    {
      "cell_type": "code",
      "metadata": {
        "id": "EQ-YbJ8Jl3GC",
        "colab_type": "code",
        "colab": {}
      },
      "source": [
        "criterion = nn.CrossEntropyLoss()\n",
        "lr = 5.0\n",
        "optimizer = torch.optim.SGD(model.parameters(),lr=lr)\n",
        "scheduler = torch.optim.lr_scheduler.StepLR(optimizer,1.0,gamma=0.95)\n",
        "\n",
        "import time\n",
        "def train():\n",
        "    model.train()\n",
        "    total_loss = 0.\n",
        "    start_time = time.time()\n",
        "    ntokens = len(TEXT.vocab.stoi)\n",
        "    for batch,i in enumerate(range(0,train_data.size(0) - 1,bptt)):\n",
        "        data,targets = get_batch(train_data,i)\n",
        "        optimizer.zero_grad()\n",
        "        output = model(data)\n",
        "        loss = criterion(output.view(-1,ntokens),targets)\n",
        "        loss.backward()\n",
        "        torch.nn.utils.clip_grad_norm_(model.parameters(),0.5)\n",
        "        optimizer.step()\n",
        "\n",
        "        total_loss += loss.item()\n",
        "        log_interval = 200\n",
        "        if batch % log_interval == 0 and batch > 0:\n",
        "            cur_loss = total_loss / log_interval\n",
        "            elapsed = time.time() - start_time\n",
        "            print(epoch,cur_loss)\n",
        "            # print('| epoch {:3d} | {:5d}/{:5d} batches | lr = {:2.2f} | ms/batch { :5.2f} | loss { :5.2f} | ppl { :8.2f} '\\\n",
        "            #       .format(epoch,batch,len(train_data)//bptt,scheduler.get_last_lr()[0],elapsed * 1000 / log_interval, cur_loss,math.exp(cur_loss)))\n",
        "            total_loss = 0\n",
        "            start_time = time.time()\n"
      ],
      "execution_count": 0,
      "outputs": []
    },
    {
      "cell_type": "code",
      "metadata": {
        "id": "IetgcmY1o3Ys",
        "colab_type": "code",
        "colab": {}
      },
      "source": [
        "def evaluate(eval_model, data_source):\n",
        "    eval_model.eval()\n",
        "    total_loss = 0\n",
        "    ntokens = len(TEXT.vocab.stoi)\n",
        "    with torch.no_grad():\n",
        "        for i in range(0,data_source.size(0)- 1,bptt):\n",
        "            data,targets = get_batch(data_source,i)\n",
        "            output = eval_model(data)\n",
        "            output_flat = output.view(-1,ntokens)\n",
        "            total_loss += len(data) * criterion(output_flat,targets).item()\n",
        "    return total_loss / (len(data_source) - 1)"
      ],
      "execution_count": 0,
      "outputs": []
    },
    {
      "cell_type": "code",
      "metadata": {
        "id": "4bLYsCoytghI",
        "colab_type": "code",
        "colab": {
          "base_uri": "https://localhost:8080/",
          "height": 935
        },
        "outputId": "72bd6f3c-4006-474c-c54e-83c469795e21"
      },
      "source": [
        "best_val_loss = float('inf')\n",
        "epochs = 3\n",
        "best_model = None\n",
        "\n",
        "for epoch in range(1,epochs + 1):\n",
        "    epoch_start_time = time.time()\n",
        "    train()\n",
        "    val_loss = evaluate(model,val_data)\n",
        "    print('-'*89)\n",
        "    print('|end off epoch {:3d} | time: {:5.2f}s | valid loss {:5.2f} | valid ppl {:8.2f} '\\\n",
        "          .format(epoch,(time.time() - epoch_start_time),val_loss,math.exp(val_loss)))\n",
        "    print('-'*89)\n",
        "\n",
        "    if val_loss < best_val_loss:\n",
        "        best_val_loss = val_loss\n",
        "        best_model = model\n",
        "    scheduler.step()\n"
      ],
      "execution_count": 24,
      "outputs": [
        {
          "output_type": "stream",
          "text": [
            "1 4.947818334102631\n",
            "1 5.269299688339234\n",
            "1 5.200482094287873\n",
            "1 5.180407166481018\n",
            "1 5.271288788318634\n",
            "1 5.248668670654297\n",
            "1 5.26159779548645\n",
            "1 5.199090993404388\n",
            "1 5.253862366676331\n",
            "1 5.289327793121338\n",
            "1 5.2318233871459965\n",
            "1 5.131866447925567\n",
            "1 5.2361983919143675\n",
            "1 5.219810883998871\n",
            "1 5.138813378810883\n",
            "-----------------------------------------------------------------------------------------\n",
            "|end off epoch   1 | time: 60.11s | valid loss  5.05 | valid ppl   156.75 \n",
            "-----------------------------------------------------------------------------------------\n",
            "2 4.830377190113068\n",
            "2 5.087711000442505\n",
            "2 5.014423236846924\n",
            "2 5.004646847248077\n",
            "2 5.1011394691467284\n",
            "2 5.079628868103027\n",
            "2 5.11373450756073\n",
            "2 5.0485885000228885\n",
            "2 5.095188918113709\n",
            "2 5.160149555206299\n",
            "2 5.077682962417603\n",
            "2 4.982285356521606\n",
            "2 5.066847603321076\n",
            "2 5.070686292648316\n",
            "2 5.003495497703552\n",
            "-----------------------------------------------------------------------------------------\n",
            "|end off epoch   2 | time: 58.99s | valid loss  5.05 | valid ppl   155.52 \n",
            "-----------------------------------------------------------------------------------------\n",
            "3 4.742529385089874\n",
            "3 4.9646652936935425\n",
            "3 4.874401669502259\n",
            "3 4.871526598930359\n",
            "3 4.967422740459442\n",
            "3 4.948217434883118\n",
            "3 4.994939506053925\n",
            "3 4.918316168785095\n",
            "3 4.970725531578064\n",
            "3 5.016659801006317\n",
            "3 4.952795290946961\n",
            "3 4.834855182170868\n",
            "3 4.940766024589538\n",
            "3 4.929635515213013\n",
            "3 4.870750489234925\n",
            "-----------------------------------------------------------------------------------------\n",
            "|end off epoch   3 | time: 59.17s | valid loss  4.98 | valid ppl   146.11 \n",
            "-----------------------------------------------------------------------------------------\n"
          ],
          "name": "stdout"
        }
      ]
    },
    {
      "cell_type": "code",
      "metadata": {
        "id": "nyNYoYLO45ks",
        "colab_type": "code",
        "colab": {
          "base_uri": "https://localhost:8080/",
          "height": 34
        },
        "outputId": "95e436c6-cbf2-4b4d-fc62-c2beaf331913"
      },
      "source": [
        "scheduler.get_last_lr()[0]"
      ],
      "execution_count": 14,
      "outputs": [
        {
          "output_type": "execute_result",
          "data": {
            "text/plain": [
              "5.0"
            ]
          },
          "metadata": {
            "tags": []
          },
          "execution_count": 14
        }
      ]
    },
    {
      "cell_type": "code",
      "metadata": {
        "id": "IwiEqeHK7h7m",
        "colab_type": "code",
        "colab": {}
      },
      "source": [
        ""
      ],
      "execution_count": 0,
      "outputs": []
    }
  ]
}