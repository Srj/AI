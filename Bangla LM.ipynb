{
  "nbformat": 4,
  "nbformat_minor": 0,
  "metadata": {
    "colab": {
      "name": "Untitled0.ipynb",
      "provenance": []
    },
    "kernelspec": {
      "name": "python3",
      "display_name": "Python 3"
    }
  },
  "cells": [
    {
      "cell_type": "code",
      "metadata": {
        "id": "f9uZe-fPTLFj",
        "colab_type": "code",
        "colab": {
          "base_uri": "https://localhost:8080/",
          "height": 34
        },
        "outputId": "24bba062-aad8-4a68-9a5d-17e303c8701c"
      },
      "source": [
        "from transformers import XLMRobertaTokenizer\n",
        "\n",
        "tokenizer = XLMRobertaTokenizer.from_pretrained(\"spm.model\", max_len=512)"
      ],
      "execution_count": 7,
      "outputs": [
        {
          "output_type": "stream",
          "text": [
            "Calling XLMRobertaTokenizer.from_pretrained() with the path to a single file or url is deprecated\n"
          ],
          "name": "stderr"
        }
      ]
    },
    {
      "cell_type": "code",
      "metadata": {
        "id": "fp0jufjOTpZp",
        "colab_type": "code",
        "colab": {}
      },
      "source": [
        "from transformers import XLMRobertaConfig\n",
        "\n",
        "config = XLMRobertaConfig(\n",
        "    vocab_size=10000,\n",
        "    max_position_embeddings=514,\n",
        "    num_attention_heads=8,\n",
        "    num_hidden_layers=6,\n",
        "    type_vocab_size=1,\n",
        ")"
      ],
      "execution_count": 9,
      "outputs": []
    },
    {
      "cell_type": "code",
      "metadata": {
        "id": "TJbIRUjKUZl2",
        "colab_type": "code",
        "colab": {}
      },
      "source": [
        "from transformers import XLMRobertaForMaskedLM\n",
        "\n",
        "model = XLMRobertaForMaskedLM.from_pretrained(\"EsperBERTo\",config=config)"
      ],
      "execution_count": 12,
      "outputs": []
    },
    {
      "cell_type": "code",
      "metadata": {
        "id": "1jRea8bnSd_v",
        "colab_type": "code",
        "colab": {}
      },
      "source": [
        "from transformers import pipeline\n",
        "\n",
        "fill_mask = pipeline(\n",
        "    \"fill-mask\",\n",
        "    model=model,\n",
        "    tokenizer=tokenizer\n",
        ")"
      ],
      "execution_count": 13,
      "outputs": []
    },
    {
      "cell_type": "code",
      "metadata": {
        "id": "99Lr_6agUmPx",
        "colab_type": "code",
        "colab": {
          "base_uri": "https://localhost:8080/",
          "height": 364
        },
        "outputId": "714457eb-aedb-4153-9583-121e60362b88"
      },
      "source": [
        "fill_mask(\"ফেসবুক আজ তাদের অফিশিয়াল ব্লগে এই বিষয়ে একটি <mask> প্রকাশ করে।\")"
      ],
      "execution_count": 14,
      "outputs": [
        {
          "output_type": "execute_result",
          "data": {
            "text/plain": [
              "[{'score': 0.17994444072246552,\n",
              "  'sequence': '<s> ফেসবুক আজ তাদের অফিশিয়াল ব্লগে এই বিষয়ে একটি তথ্য প্রকাশ করে।</s>',\n",
              "  'token': 175,\n",
              "  'token_str': '▁তথ্য'},\n",
              " {'score': 0.030370794236660004,\n",
              "  'sequence': '<s> ফেসবুক আজ তাদের অফিশিয়াল ব্লগে এই বিষয়ে একটি লেখা প্রকাশ করে।</s>',\n",
              "  'token': 343,\n",
              "  'token_str': '▁লেখা'},\n",
              " {'score': 0.02628878317773342,\n",
              "  'sequence': '<s> ফেসবুক আজ তাদের অফিশিয়াল ব্লগে এই বিষয়ে একটি যোগাযোগ প্রকাশ করে।</s>',\n",
              "  'token': 589,\n",
              "  'token_str': '▁যোগাযোগ'},\n",
              " {'score': 0.02202492393553257,\n",
              "  'sequence': '<s> ফেসবুক আজ তাদের অফিশিয়াল ব্লগে এই বিষয়ে একটি পোস্ট প্রকাশ করে।</s>',\n",
              "  'token': 984,\n",
              "  'token_str': '▁পোস্ট'},\n",
              " {'score': 0.020464325323700905,\n",
              "  'sequence': '<s> ফেসবুক আজ তাদের অফিশিয়াল ব্লগে এই বিষয়ে একটি ভিডিও প্রকাশ করে।</s>',\n",
              "  'token': 564,\n",
              "  'token_str': '▁ভিডিও'}]"
            ]
          },
          "metadata": {
            "tags": []
          },
          "execution_count": 14
        }
      ]
    },
    {
      "cell_type": "code",
      "metadata": {
        "id": "WxuTdsafUzq4",
        "colab_type": "code",
        "colab": {
          "base_uri": "https://localhost:8080/",
          "height": 364
        },
        "outputId": "74769a04-a803-4898-d3db-b15012ecf685"
      },
      "source": [
        "fill_mask(\"গত বছর উত্তর কোরিয়া একাধিক আন্তঃমহাদেশীয় ক্ষেপণাস্ত্র <mask> চালিয়েছে। \")"
      ],
      "execution_count": 15,
      "outputs": [
        {
          "output_type": "execute_result",
          "data": {
            "text/plain": [
              "[{'score': 0.014472213573753834,\n",
              "  'sequence': '<s> গত বছর উত্তর কোরিয়া একাধিক আন্তঃমহাদেশীয় ক্ষেপণাস্ত্র হামলা চালিয়েছে।</s>',\n",
              "  'token': 872,\n",
              "  'token_str': '▁হামলা'},\n",
              " {'score': 0.007953056134283543,\n",
              "  'sequence': '<s> গত বছর উত্তর কোরিয়া একাধিক আন্তঃমহাদেশীয় ক্ষেপণাস্ত্র গড়ে চালিয়েছে।</s>',\n",
              "  'token': 911,\n",
              "  'token_str': '▁গড়ে'},\n",
              " {'score': 0.006897117011249065,\n",
              "  'sequence': '<s> গত বছর উত্তর কোরিয়া একাধিক আন্তঃমহাদেশীয় ক্ষেপণাস্ত্র নিহত চালিয়েছে।</s>',\n",
              "  'token': 446,\n",
              "  'token_str': '▁নিহত'},\n",
              " {'score': 0.006270647514611483,\n",
              "  'sequence': '<s> গত বছর উত্তর কোরিয়া একাধিক আন্তঃমহাদেশীয় ক্ষেপণাস্ত্রে চালিয়েছে।</s>',\n",
              "  'token': 9,\n",
              "  'token_str': 'ে'},\n",
              " {'score': 0.005910874344408512,\n",
              "  'sequence': '<s> গত বছর উত্তর কোরিয়া একাধিক আন্তঃমহাদেশীয় ক্ষেপণাস্ত্র সৃষ্টি চালিয়েছে।</s>',\n",
              "  'token': 556,\n",
              "  'token_str': '▁সৃষ্টি'}]"
            ]
          },
          "metadata": {
            "tags": []
          },
          "execution_count": 15
        }
      ]
    },
    {
      "cell_type": "code",
      "metadata": {
        "id": "WhgxiFIcVhJ3",
        "colab_type": "code",
        "colab": {
          "base_uri": "https://localhost:8080/",
          "height": 364
        },
        "outputId": "89bf13da-e7d8-40c2-b526-e8f4836cb54e"
      },
      "source": [
        "fill_mask(\"এই <mask> করতে পারবেন।\")"
      ],
      "execution_count": 19,
      "outputs": [
        {
          "output_type": "execute_result",
          "data": {
            "text/plain": [
              "[{'score': 0.02646331675350666,\n",
              "  'sequence': '<s> এই মন্তব্য করতে পারবেন।</s>',\n",
              "  'token': 483,\n",
              "  'token_str': '▁মন্তব্য'},\n",
              " {'score': 0.024596896022558212,\n",
              "  'sequence': '<s> এই যোগাযোগ করতে পারবেন।</s>',\n",
              "  'token': 589,\n",
              "  'token_str': '▁যোগাযোগ'},\n",
              " {'score': 0.023887012153863907,\n",
              "  'sequence': '<s> এই ক্লিক করতে পারবেন।</s>',\n",
              "  'token': 2200,\n",
              "  'token_str': '▁ক্লিক'},\n",
              " {'score': 0.01782269962131977,\n",
              "  'sequence': '<s> এই কাজ করতে পারবেন।</s>',\n",
              "  'token': 111,\n",
              "  'token_str': '▁কাজ'},\n",
              " {'score': 0.016743045300245285,\n",
              "  'sequence': '<s> এই সাইটে করতে পারবেন।</s>',\n",
              "  'token': 2894,\n",
              "  'token_str': '▁সাইটে'}]"
            ]
          },
          "metadata": {
            "tags": []
          },
          "execution_count": 19
        }
      ]
    },
    {
      "cell_type": "code",
      "metadata": {
        "id": "pVQsFqJ-V081",
        "colab_type": "code",
        "colab": {
          "base_uri": "https://localhost:8080/",
          "height": 364
        },
        "outputId": "4ef4ad1b-f17e-4c1c-b105-90988f4c71e8"
      },
      "source": [
        "fill_mask(\"তদন্ত এখনও <mask> হয়নি।\")"
      ],
      "execution_count": 22,
      "outputs": [
        {
          "output_type": "execute_result",
          "data": {
            "text/plain": [
              "[{'score': 0.055182576179504395,\n",
              "  'sequence': '<s> তদন্ত এখনও বলা হয়নি।</s>',\n",
              "  'token': 330,\n",
              "  'token_str': '▁বলা'},\n",
              " {'score': 0.0470743328332901,\n",
              "  'sequence': '<s> তদন্ত এখনও অভিযোগ হয়নি।</s>',\n",
              "  'token': 311,\n",
              "  'token_str': '▁অভিযোগ'},\n",
              " {'score': 0.026403171941637993,\n",
              "  'sequence': '<s> তদন্ত এখনও দাবি হয়নি।</s>',\n",
              "  'token': 406,\n",
              "  'token_str': '▁দাবি'},\n",
              " {'score': 0.019382454454898834,\n",
              "  'sequence': '<s> তদন্ত এখনও মনে হয়নি।</s>',\n",
              "  'token': 177,\n",
              "  'token_str': '▁মনে'},\n",
              " {'score': 0.01752907782793045,\n",
              "  'sequence': '<s> তদন্ত এখনও জানা হয়নি।</s>',\n",
              "  'token': 192,\n",
              "  'token_str': '▁জানা'}]"
            ]
          },
          "metadata": {
            "tags": []
          },
          "execution_count": 22
        }
      ]
    },
    {
      "cell_type": "code",
      "metadata": {
        "id": "_--VwE8uWkaX",
        "colab_type": "code",
        "colab": {}
      },
      "source": [
        ""
      ],
      "execution_count": null,
      "outputs": []
    }
  ]
}