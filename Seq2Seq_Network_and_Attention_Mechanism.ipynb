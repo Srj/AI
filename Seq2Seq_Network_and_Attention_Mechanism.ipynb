{
  "nbformat": 4,
  "nbformat_minor": 0,
  "metadata": {
    "colab": {
      "name": "Seq2Seq Network and Attention Mechanism.ipynb",
      "provenance": [],
      "collapsed_sections": [],
      "authorship_tag": "ABX9TyP1Yshl8++Sh5G3SpoBaucX",
      "include_colab_link": true
    },
    "kernelspec": {
      "name": "python3",
      "display_name": "Python 3"
    },
    "accelerator": "GPU"
  },
  "cells": [
    {
      "cell_type": "markdown",
      "metadata": {
        "id": "view-in-github",
        "colab_type": "text"
      },
      "source": [
        "<a href=\"https://colab.research.google.com/github/Srj/AI/blob/master/Seq2Seq_Network_and_Attention_Mechanism.ipynb\" target=\"_parent\"><img src=\"https://colab.research.google.com/assets/colab-badge.svg\" alt=\"Open In Colab\"/></a>"
      ]
    },
    {
      "cell_type": "code",
      "metadata": {
        "id": "n1opC3Ld945-",
        "colab_type": "code",
        "outputId": "d7331f7a-5b6b-49a0-cd24-8e8c5f8ab7c1",
        "colab": {
          "base_uri": "https://localhost:8080/",
          "height": 402
        }
      },
      "source": [
        "!unzip data.zip"
      ],
      "execution_count": 9,
      "outputs": [
        {
          "output_type": "stream",
          "text": [
            "Archive:  data.zip\n",
            "   creating: data/\n",
            "  inflating: data/eng-fra.txt        \n",
            "   creating: data/names/\n",
            "  inflating: data/names/Arabic.txt   \n",
            "  inflating: data/names/Chinese.txt  \n",
            "  inflating: data/names/Czech.txt    \n",
            "  inflating: data/names/Dutch.txt    \n",
            "  inflating: data/names/English.txt  \n",
            "  inflating: data/names/French.txt   \n",
            "  inflating: data/names/German.txt   \n",
            "  inflating: data/names/Greek.txt    \n",
            "  inflating: data/names/Irish.txt    \n",
            "  inflating: data/names/Italian.txt  \n",
            "  inflating: data/names/Japanese.txt  \n",
            "  inflating: data/names/Korean.txt   \n",
            "  inflating: data/names/Polish.txt   \n",
            "  inflating: data/names/Portuguese.txt  \n",
            "  inflating: data/names/Russian.txt  \n",
            "  inflating: data/names/Scottish.txt  \n",
            "  inflating: data/names/Spanish.txt  \n",
            "  inflating: data/names/Vietnamese.txt  \n"
          ],
          "name": "stdout"
        }
      ]
    },
    {
      "cell_type": "code",
      "metadata": {
        "id": "nOhsyJnTeP58",
        "colab_type": "code",
        "colab": {}
      },
      "source": [
        "from __future__ import unicode_literals,print_function,division\n",
        "from io import open \n",
        "import unicodedata\n",
        "import string\n",
        "import re\n",
        "import random\n",
        "\n",
        "import torch\n",
        "import torch.nn as nn\n",
        "from torch import optim\n",
        "import torch.nn.functional as F\n",
        "\n",
        "device = torch.device(\"cuda\" if torch.cuda.is_available() else \"cpu\")"
      ],
      "execution_count": 0,
      "outputs": []
    },
    {
      "cell_type": "code",
      "metadata": {
        "id": "_S0AFTtWnPwh",
        "colab_type": "code",
        "colab": {}
      },
      "source": [
        "SOS_token = 0\n",
        "EOS_token = 1\n",
        "#Helper Class to One-Hot Encode Words in Sentences\n",
        "\n",
        "class Lang:\n",
        "    def __init__(self,name):\n",
        "        self.name = name\n",
        "        self.word2index = {}\n",
        "        self.word2count = {}\n",
        "        self.index2word = {0: 'SOS',1:\"EOS\"}\n",
        "        self.n_words = 2\n",
        "\n",
        "    def addSentence(self,sentence):\n",
        "        for word in sentence.split(' '):\n",
        "            self.addWord(word)\n",
        "\n",
        "    def addWord(self,word):\n",
        "        if word not in self.word2index:\n",
        "            self.word2index[word] = self.n_words\n",
        "            self.word2count[word] = 1\n",
        "            self.index2word[self.n_words] = word\n",
        "            self.n_words += 1\n",
        "        else:\n",
        "            self.word2count[word] += 1\n",
        "\n",
        "\n"
      ],
      "execution_count": 0,
      "outputs": []
    },
    {
      "cell_type": "code",
      "metadata": {
        "id": "zb4XgQYLoVsU",
        "colab_type": "code",
        "colab": {}
      },
      "source": [
        "def unicodeToAscii(s):\n",
        "    return ''.join(c for c in unicodedata.normalize('NFD',s)\n",
        "                        if unicodedata.category(c) != 'Mn')\n",
        "    \n",
        "def normalizeString(s):\n",
        "    s = unicodeToAscii(s.lower().strip())\n",
        "    s = re.sub(r\"([.!?])\",r\" \\1\",s)\n",
        "    s =re.sub(r\"[^a-zA-Z.?!]+\",r\" \",s)\n",
        "    return s\n"
      ],
      "execution_count": 0,
      "outputs": []
    },
    {
      "cell_type": "code",
      "metadata": {
        "id": "5OWEhJywx4qe",
        "colab_type": "code",
        "colab": {}
      },
      "source": [
        "def readLangs(lang1,lang2,reverse=False):\n",
        "    print(\"Reading Lines .....\")\n",
        "\n",
        "    lines = open('data/%s-%s.txt' %(lang1,lang2),encoding='utf-8').\\\n",
        "        read().strip().split('\\n')\n",
        "    pairs = [[normalizeString(s) for s in l.split('\\t')] for l in lines]\n",
        "\n",
        "    if reverse == True:\n",
        "        pairs = [list(reversed(p)) for p in pairs]\n",
        "        input_lang = Lang(lang2)\n",
        "        output_lang = Lang(lang1)\n",
        "\n",
        "    else:\n",
        "        input_lang = Lang(lang1)\n",
        "        output_lang = Lang(lang2)\n",
        "\n",
        "    return input_lang,output_lang,pairs"
      ],
      "execution_count": 0,
      "outputs": []
    },
    {
      "cell_type": "code",
      "metadata": {
        "id": "oUmtEP0wzDW8",
        "colab_type": "code",
        "colab": {}
      },
      "source": [
        "MAX_LENGTH = 10\n",
        "\n",
        "eng_prefixes = (\n",
        "    \"i am \", \"i m \",\n",
        "    \"he is\", \"he s \",\n",
        "    \"she is\", \"she s \",\n",
        "    \"you are\", \"you re \",\n",
        "    \"we are\", \"we re \",\n",
        "    \"they are\", \"they re \"\n",
        ")\n",
        "\n",
        "def filterpair(p):\n",
        "    return len(p[0].split(' ')) < MAX_LENGTH and \\\n",
        "        len(p[1].split(' ')) < MAX_LENGTH and \\\n",
        "        p[1].startswith(eng_prefixes)\n",
        "\n",
        "\n",
        "def filterPairs(pairs):\n",
        "    return [pair for pair in pairs if filterpair(pair)]\n",
        "\n"
      ],
      "execution_count": 0,
      "outputs": []
    },
    {
      "cell_type": "code",
      "metadata": {
        "id": "sBhJyRjr0DW7",
        "colab_type": "code",
        "colab": {}
      },
      "source": [
        "def prepareData(lang1, lang2, reverse=False):\n",
        "    input_lang,output_lang,pairs = readLangs(lang1,lang2,reverse)\n",
        "    print(\"Read %s sentence pairs\" %len(pairs))\n",
        "    pairs = filterPairs(pairs)\n",
        "    print(\"Trimmed to %s sentence pairs \" % len(pairs))\n",
        "    print('Counting Words ...')\n",
        "    for pair in pairs:\n",
        "        input_lang.addSentence(pair[0])\n",
        "        output_lang.addSentence(pair[1])\n",
        "\n",
        "    print(\"Counted Words :\")\n",
        "    print(input_lang.name,input_lang.n_words)\n",
        "    print(output_lang.name,output_lang.n_words)\n",
        "    return input_lang,output_lang,pairs"
      ],
      "execution_count": 0,
      "outputs": []
    },
    {
      "cell_type": "code",
      "metadata": {
        "id": "SVkWZpx45HUv",
        "colab_type": "code",
        "outputId": "23937ce8-0a01-47fd-a36d-8575736c8d59",
        "colab": {
          "base_uri": "https://localhost:8080/",
          "height": 157
        }
      },
      "source": [
        "input_lang,output_lang,pairs = prepareData('eng','fra',True)\n",
        "print(random.choice(pairs))"
      ],
      "execution_count": 16,
      "outputs": [
        {
          "output_type": "stream",
          "text": [
            "Reading Lines .....\n",
            "Read 135842 sentence pairs\n",
            "Trimmed to 10599 sentence pairs \n",
            "Counting Words ...\n",
            "Counted Words :\n",
            "fra 4345\n",
            "eng 2803\n",
            "['il s approche .', 'he s coming closer .']\n"
          ],
          "name": "stdout"
        }
      ]
    },
    {
      "cell_type": "code",
      "metadata": {
        "id": "ZVAh_0Edc0Dv",
        "colab_type": "code",
        "colab": {}
      },
      "source": [
        "class EncoderRNN(nn.Module):\n",
        "    def __init__(self,input_size,hidden_size):\n",
        "        super(EncoderRNN,self).__init__()\n",
        "        self.hidden_size = hidden_size\n",
        "\n",
        "        self.embedding = nn.Embedding(input_size,hidden_size)\n",
        "        self.gru = nn.GRU(hidden_size,hidden_size)\n",
        "\n",
        "    def forward(self,input,hidden):\n",
        "        embedded = self.embedding(input).view(1,1,-1)\n",
        "        output  = embedded \n",
        "        output, hidden = self.gru(output,hidden)\n",
        "        return output, hidden\n",
        "\n",
        "    def initHidden(self):\n",
        "        return torch.zeros(1,1,self.hidden_size,device=device)\n",
        "\n"
      ],
      "execution_count": 0,
      "outputs": []
    },
    {
      "cell_type": "code",
      "metadata": {
        "id": "anWvllhHfoAe",
        "colab_type": "code",
        "colab": {}
      },
      "source": [
        "class DecoderRNN(nn.Module):\n",
        "    def __init__(self,hidden_size,output_size):\n",
        "        super(DecoderRNN,self).__init__()\n",
        "        self.hidden_size = hidden_size\n",
        "\n",
        "        self.embedding = nn.Embedding(output_size,hidden_size)\n",
        "        self.gru = nn.GRU(hidden_size,hidden_size)\n",
        "        self.out = nn.Linear(hidden_size,output_size)\n",
        "        self.softmax = nn.LogSoftmax(dim=1)\n",
        "\n",
        "    def forward(self,input,hidden):\n",
        "        output = self.embedding(input).view(1,1,-1)\n",
        "        output = F.relu(output)\n",
        "        output,hidden = self.gru(output,hidden)\n",
        "        print(\"gru\", output.size())\n",
        "        output = self.out(output[0])\n",
        "        print(\"softmax\", output.size())\n",
        "        output = self.softmax(output)\n",
        "        return output,hidden\n",
        "\n",
        "    def initHidden(self):\n",
        "        return torch.zeros(1,1,self.hidden_size,device=device)\n"
      ],
      "execution_count": 0,
      "outputs": []
    },
    {
      "cell_type": "code",
      "metadata": {
        "id": "gRMzvDHBoQ-2",
        "colab_type": "code",
        "colab": {}
      },
      "source": [
        "class AttnDecoderRNN(nn.Module):\n",
        "    def __init__(self,hidden_size,output_size,dropout_p = 0.1, max_length=MAX_LENGTH):\n",
        "        super(AttnDecoderRNN,self).__init__()\n",
        "        self.hidden_size  = hidden_size\n",
        "        self.output_size = output_size\n",
        "        self.dropout_p = dropout_p\n",
        "        self.max_length = max_length\n",
        "        \n",
        "        self.embedding = nn.Embedding(self.output_size,self.hidden_size)\n",
        "        self.attn = nn.Linear(self.hidden_size*2,self.max_length)\n",
        "        self.attn_combine =nn.Linear(self.hidden_size * 2, self.hidden_size)\n",
        "        self.dropout = nn.Dropout(self.dropout_p)\n",
        "        self.gru = nn.GRU(self.hidden_size,self.hidden_size)\n",
        "        self.out = nn.Linear(self.hidden_size,self.output_size) \n",
        "\n",
        "    def forward(self,input,hidden,encoder_outputs):\n",
        "        embedded = self.embedding(input).view(1,1,-1)\n",
        "        embedded = self.dropout(embedded)\n",
        "\n",
        "        attn_weights = F.softmax(self.attn(torch.cat((embedded[0],hidden[0]),dim=1)),dim=1)\n",
        "        attn_applied = torch.bmm(attn_weights.unsqueeze(0),encoder_outputs.unsqueeze(0))\n",
        "        output = torch.cat((embedded[0],attn_applied[0]),1)\n",
        "        output = self.attn_combine(output).unsqueeze(0)\n",
        "\n",
        "        output = F.relu(output)\n",
        "        output,hidden = self.gru(output,hidden)\n",
        "        output = F.log_softmax(self.out(output[0]),dim=1)\n",
        "        return output,hidden,attn_weights\n",
        "    \n",
        "    def initHidden(self):\n",
        "        return torch.zeros(1,1,self.hidden_size,device=device)\n",
        "\n",
        "\n"
      ],
      "execution_count": 0,
      "outputs": []
    },
    {
      "cell_type": "code",
      "metadata": {
        "id": "TjRax2xrIdvu",
        "colab_type": "code",
        "colab": {}
      },
      "source": [
        "def indexesFromSentence(lang, sentence):\n",
        "    return [lang.word2index[word] for word in sentence.split(' ')]\n",
        "\n",
        "def tensorFromSentence(lang,sentence):\n",
        "    indexes = indexesFromSentence(lang,sentence)\n",
        "    indexes.append(EOS_token)\n",
        "    return torch.tensor(indexes,dtype=torch.long,device=device).view(-1,1)\n",
        "\n",
        "\n",
        "def tensorsFromPair(pair):\n",
        "    input_tensor = tensorFromSentence(input_lang,pair[0])\n",
        "    target_tensor = tensorFromSentence(output_lang,pair[1])\n",
        "    return (input_tensor, target_tensor)\n",
        "    "
      ],
      "execution_count": 0,
      "outputs": []
    },
    {
      "cell_type": "code",
      "metadata": {
        "id": "H_IcXY1SLlcM",
        "colab_type": "code",
        "colab": {}
      },
      "source": [
        "teacher_forcing_ratio = 0.5\n",
        "\n",
        "def train(input_tensor,target_tensor,encoder,decoder,encoder_optimizer,decoder_optimizer,criterion,max_length = MAX_LENGTH):\n",
        "    encoder_hidden = encoder.initHidden()\n",
        "\n",
        "    encoder_optimizer.zero_grad()\n",
        "    decoder_optimizer.zero_grad()\n",
        "\n",
        "    input_length = input_tensor.size(0)\n",
        "    target_length = target_tensor.size(0)\n",
        "\n",
        "\n",
        "    encoder_outputs = torch.zeros(max_length,encoder.hidden_size,device=device)\n",
        "\n",
        "    loss = 0\n",
        "\n",
        "    for ei in range(input_length):\n",
        "        encoder_output,encoder_hidden = encoder(input_tensor[ei], encoder_hidden)\n",
        "        encoder_outputs[ei] = encoder_output[0,0]\n",
        "\n",
        "\n",
        "    decoder_input = torch.tensor([[SOS_token]],device=device)\n",
        "\n",
        "    decoder_hidden = encoder_hidden\n",
        "\n",
        "\n",
        "    use_teacher_forcing = True if random.random() < teacher_forcing_ratio else False\n",
        "\n",
        "    if use_teacher_forcing:\n",
        "        for di in range(target_length):\n",
        "            decoder_output,decoder_hidden,decoder_attention = decoder(\n",
        "                decoder_input,decoder_hidden,encoder_outputs\n",
        "            )\n",
        "            loss += criterion(decoder_output,target_tensor[di])\n",
        "            decoder_input = target_tensor[di]\n",
        "\n",
        "\n",
        "\n",
        "    else:\n",
        "        for di in range(target_length):\n",
        "            decoder_output,decoder_hidden,decoder_attention = decoder(\n",
        "                decoder_input,decoder_hidden,encoder_outputs\n",
        "            )\n",
        "            topv,topi = decoder_output.topk(1)\n",
        "            decoder_input = topi.squeeze().detach()\n",
        "\n",
        "            loss += criterion(decoder_output,target_tensor[di])\n",
        "\n",
        "            if decoder_input.item() == EOS_token:\n",
        "                break\n",
        "\n",
        "    loss.backward()\n",
        "    encoder_optimizer.step()\n",
        "    decoder_optimizer.step()\n",
        "\n",
        "    return loss.item()/target_length"
      ],
      "execution_count": 0,
      "outputs": []
    },
    {
      "cell_type": "code",
      "metadata": {
        "id": "Qq-CTUUoUbVA",
        "colab_type": "code",
        "colab": {}
      },
      "source": [
        "import time\n",
        "import math\n",
        "\n",
        "def asMinutes(s):\n",
        "    m = math.floor(s/60)\n",
        "    s -= m * 60\n",
        "    return '%dm %ds' % (m,s)\n",
        "\n",
        "def timeSince(since,percent):\n",
        "    now = time.time()\n",
        "    s = now - since\n",
        "    es = s/(percent)\n",
        "    rs = es - s\n",
        "    return '%s (- %s)' % (asMinutes(s),asMinutes(rs))"
      ],
      "execution_count": 0,
      "outputs": []
    },
    {
      "cell_type": "code",
      "metadata": {
        "id": "a-itF3abU881",
        "colab_type": "code",
        "colab": {}
      },
      "source": [
        "def trainIters(encoder,decoder,n_iters,print_every=1000, plot_every=100,learning_rate=0.01):\n",
        "    start = time.time()\n",
        "    plot_losses = []\n",
        "    print_loss_total = 0\n",
        "    plot_loss_total = 0 \n",
        "\n",
        "    encoder_optimizer = optim.SGD(encoder.parameters(), lr =learning_rate)\n",
        "    decoder_optimizer = optim.SGD(decoder.parameters(), lr =learning_rate)\n",
        "\n",
        "    training_pairs = [tensorsFromPair(random.choice(pairs)) for i in range(n_iters)]\n",
        "    criterion = nn.NLLLoss()\n",
        "\n",
        "    for iter in range(1,n_iters + 1):\n",
        "        training_pair = training_pairs[iter - 1]\n",
        "        input_tensor = training_pair[0]\n",
        "        target_tensor = training_pair[1]\n",
        "\n",
        "        loss = train(input_tensor,target_tensor,encoder,decoder,encoder_optimizer,decoder_optimizer,criterion)\n",
        "        print_loss_total += loss\n",
        "        plot_loss_total += loss\n",
        "\n",
        "        if iter % print_every == 0 :\n",
        "            print_loss_avg = print_loss_total / print_every\n",
        "            print_loss_total = 0\n",
        "            print('%s (%d %d%%) %.df' %(timeSince(start, iter/n_iters),iter,iter/n_iters*100,print_loss_avg))\n",
        "\n",
        "        if iter % plot_every == 0:\n",
        "            plot_loss_avg = plot_loss_total/plot_every\n",
        "            plot_losses.append(plot_loss_avg)\n",
        "            plot_loss_total = 0\n",
        "\n",
        "    showPlot(plot_losses)\n"
      ],
      "execution_count": 0,
      "outputs": []
    },
    {
      "cell_type": "code",
      "metadata": {
        "id": "m43JGe5ijJ9W",
        "colab_type": "code",
        "colab": {}
      },
      "source": [
        "import matplotlib.pyplot as plt\n",
        "plt.switch_backend('agg')\n",
        "import matplotlib.ticker as ticker\n",
        "import numpy as np\n",
        "\n",
        "def showPlot(points):\n",
        "    plt.figure()\n",
        "    fig,ax = plt.subplots()\n",
        "    loc = ticker.MultipleLocator(base=0.2)\n",
        "    ax.yaxis.set_major_locator(loc)\n",
        "    plt.plot(points)"
      ],
      "execution_count": 0,
      "outputs": []
    },
    {
      "cell_type": "code",
      "metadata": {
        "id": "8j3Dl6XIj2_Z",
        "colab_type": "code",
        "colab": {}
      },
      "source": [
        "def evaluate(encoder,decoder,sentence,max_length=MAX_LENGTH):\n",
        "    with torch.no_grad():\n",
        "        input_tensor = tensorFromSentence(input_lang,sentence)\n",
        "        input_length = input_tensor.size()[0]\n",
        "        encoder_hidden = encoder.initHidden()\n",
        "\n",
        "        encoder_outputs = torch.zeros(max_length,encoder.hidden_size,device=device)\n",
        "\n",
        "        for ei in range(input_length):\n",
        "            encoder_output, encoder_hidden = encoder(input_tensor[ei],encoder_hidden)\n",
        "            encoder_outputs[ei] += encoder_output[0,0]\n",
        "\n",
        "        decoder_input = torch.tensor([[SOS_token]],device=device)\n",
        "        decoder_hidden = encoder_hidden\n",
        "\n",
        "        decoded_words = []\n",
        "        decoder_attentions = torch.zeros(max_length,max_length)\n",
        "\n",
        "\n",
        "        for di in range(max_length):\n",
        "            decoder_output,decoder_hidden,decoder_attention = decoder(decoder_input,decoder_hidden,encoder_outputs)\n",
        "            decoder_attentions[di] = decoder_attention.data\n",
        "            topv,topi = decoder_output.data.topk(1)\n",
        "            if topi.item() == EOS_token:\n",
        "                decoded_words.append('<EOS>')\n",
        "                break\n",
        "            else:\n",
        "                decoded_words.append(output_lang.index2word[topi.item()])\n",
        "\n",
        "            decoder_input = topi.squeeze().detach()\n",
        "\n",
        "        return decoded_words,decoder_attentions[:di+1]\n"
      ],
      "execution_count": 0,
      "outputs": []
    },
    {
      "cell_type": "code",
      "metadata": {
        "id": "A7U_Dshcmcva",
        "colab_type": "code",
        "colab": {}
      },
      "source": [
        "def evaluateRandomly(encoder,decoder, n=10):\n",
        "    for i in range(n):\n",
        "        pair = random.choice(pairs)\n",
        "        print('>',pair[0])\n",
        "        print('=',pair[1])\n",
        "        output_words, attentions = evaluate(encoder,decoder,pair[0])\n",
        "        output_sentence = ' '.join(output_words)\n",
        "        print('<',output_sentence)\n",
        "        print('')"
      ],
      "execution_count": 0,
      "outputs": []
    },
    {
      "cell_type": "code",
      "metadata": {
        "id": "QteUQq56m93O",
        "colab_type": "code",
        "colab": {
          "base_uri": "https://localhost:8080/",
          "height": 280
        },
        "outputId": "f120fc8e-4291-409d-ad4c-0e1f938d89f6"
      },
      "source": [
        "hidden_size = 256\n",
        "encoder1 = EncoderRNN(input_lang.n_words,hidden_size).to(device)\n",
        "attn_decoder1 = AttnDecoderRNN(hidden_size,output_lang.n_words,dropout_p=0.1).to(device)\n",
        "\n",
        "trainIters(encoder1,attn_decoder1,75000,print_every=5000)"
      ],
      "execution_count": 44,
      "outputs": [
        {
          "output_type": "stream",
          "text": [
            "1m 25s (- 19m 52s) (5000 6%) 2f\n",
            "2m 47s (- 18m 5s) (10000 13%) 2f\n",
            "4m 8s (- 16m 34s) (15000 20%) 1f\n",
            "5m 29s (- 15m 7s) (20000 26%) 1f\n",
            "6m 50s (- 13m 41s) (25000 33%) 1f\n",
            "8m 13s (- 12m 19s) (30000 40%) 1f\n",
            "9m 34s (- 10m 57s) (35000 46%) 1f\n",
            "10m 56s (- 9m 34s) (40000 53%) 1f\n",
            "12m 19s (- 8m 12s) (45000 60%) 0f\n",
            "13m 40s (- 6m 50s) (50000 66%) 0f\n",
            "15m 2s (- 5m 28s) (55000 73%) 0f\n",
            "16m 24s (- 4m 6s) (60000 80%) 0f\n",
            "17m 46s (- 2m 44s) (65000 86%) 0f\n",
            "19m 8s (- 1m 22s) (70000 93%) 0f\n",
            "20m 31s (- 0m 0s) (75000 100%) 0f\n"
          ],
          "name": "stdout"
        }
      ]
    },
    {
      "cell_type": "code",
      "metadata": {
        "id": "67dxcXMjnmkn",
        "colab_type": "code",
        "colab": {
          "base_uri": "https://localhost:8080/",
          "height": 718
        },
        "outputId": "cf8e6ceb-4b9c-4415-d672-6074e67878e5"
      },
      "source": [
        "evaluateRandomly(encoder1,attn_decoder1)"
      ],
      "execution_count": 47,
      "outputs": [
        {
          "output_type": "stream",
          "text": [
            "> elle est occupee a apprendre l anglais .\n",
            "= she is busy learning english .\n",
            "< she is busy learning english . <EOS>\n",
            "\n",
            "> vous etes malins .\n",
            "= you re clever .\n",
            "< you re clever . <EOS>\n",
            "\n",
            "> elle n est pas confiante en l avenir .\n",
            "= she s not confident about the future .\n",
            "< she s not confident about the future . <EOS>\n",
            "\n",
            "> tu es odieux .\n",
            "= you re obnoxious .\n",
            "< you re obnoxious . <EOS>\n",
            "\n",
            "> c est un acteur .\n",
            "= he is an actor .\n",
            "< he is an actor . <EOS>\n",
            "\n",
            "> je suis impatient de vous revoir .\n",
            "= i am looking forward to seeing you again .\n",
            "< i am looking forward to seeing you again . <EOS>\n",
            "\n",
            "> tu es a la fois mignonne et gentille .\n",
            "= you are both pretty and kind .\n",
            "< you are both pretty and . <EOS>\n",
            "\n",
            "> ils sont tous semblables .\n",
            "= they re all alike .\n",
            "< they re all alike . <EOS>\n",
            "\n",
            "> vous etes pardonnees .\n",
            "= you re forgiven .\n",
            "< you re forgiven . <EOS>\n",
            "\n",
            "> elle a la peau noire .\n",
            "= she is dark skinned .\n",
            "< she is dark . <EOS>\n",
            "\n"
          ],
          "name": "stdout"
        }
      ]
    },
    {
      "cell_type": "code",
      "metadata": {
        "id": "hzLzId0Os8-O",
        "colab_type": "code",
        "colab": {
          "base_uri": "https://localhost:8080/",
          "height": 275
        },
        "outputId": "83ac3138-68f9-4baf-8bca-af0a8e288ddd"
      },
      "source": [
        "output_words, attentions = evaluate(\n",
        "    encoder1,attn_decoder1,\"je suis trop froid .\")\n",
        "plt.matshow(attentions.numpy())\n",
        "plt.show()"
      ],
      "execution_count": 54,
      "outputs": [
        {
          "output_type": "display_data",
          "data": {
            "image/png": "[encoded data removed]",
            "text/plain": [
              "<Figure size 480x288 with 1 Axes>"
            ]
          },
          "metadata": {
            "tags": [],
            "needs_background": "light"
          }
        }
      ]
    },
    {
      "cell_type": "code",
      "metadata": {
        "id": "CcEIEEKIthVR",
        "colab_type": "code",
        "colab": {
          "base_uri": "https://localhost:8080/",
          "height": 1000
        },
        "outputId": "69205a28-ebc8-41cf-b44a-1d1509d6df42"
      },
      "source": [
        "def showAttention(input_sentence,output_words,attentions):\n",
        "    fig =plt.figure()\n",
        "    ax = fig.add_subplot(111)\n",
        "    cax = ax.matshow(attentions.numpy(), cmap='bone')\n",
        "    fig.colorbar(cax)\n",
        "\n",
        "    ax.set_xticklabels([''] + input_sentence.split(' ')+ ['<EOS>'] ,rotation=90)\n",
        "    ax.set_yticklabels([''] + output_words)\n",
        "\n",
        "\n",
        "    ax.xaxis.set_major_locator(ticker.MultipleLocator(1))\n",
        "    ax.yaxis.set_major_locator(ticker.MultipleLocator(1))\n",
        "\n",
        "    plt.show()\n",
        "\n",
        "def evaluateAndShowAttention(input_sentence):\n",
        "    output_words,attentions = evaluate(encoder1,attn_decoder1,input_sentence)\n",
        "    print('input =',input_sentence)\n",
        "    print('output =',' '.join(output_words))\n",
        "    showAttention(input_sentence,output_words,attentions)\n",
        "\n",
        "evaluateAndShowAttention(\"elle a cinq ans de moins que moi .\")\n",
        "\n",
        "evaluateAndShowAttention(\"elle est trop petit .\")\n",
        "\n",
        "evaluateAndShowAttention(\"je ne crains pas de mourir .\")\n",
        "\n",
        "evaluateAndShowAttention(\"c est un jeune directeur plein de talent .\")"
      ],
      "execution_count": 55,
      "outputs": [
        {
          "output_type": "stream",
          "text": [
            "input = elle a cinq ans de moins que moi .\n",
            "output = she s six years older than i am . <EOS>\n"
          ],
          "name": "stdout"
        },
        {
          "output_type": "display_data",
          "data": {
            "image/png": "[encoded data removed]",
            "text/plain": [
              "<Figure size 432x288 with 2 Axes>"
            ]
          },
          "metadata": {
            "tags": [],
            "needs_background": "light"
          }
        },
        {
          "output_type": "stream",
          "text": [
            "input = elle est trop petit .\n",
            "output = she s too short . <EOS>\n"
          ],
          "name": "stdout"
        },
        {
          "output_type": "display_data",
          "data": {
            "image/png": "[encoded data removed]",
            "text/plain": [
              "<Figure size 432x288 with 2 Axes>"
            ]
          },
          "metadata": {
            "tags": [],
            "needs_background": "light"
          }
        },
        {
          "output_type": "stream",
          "text": [
            "input = je ne crains pas de mourir .\n",
            "output = i m not scared dying . <EOS>\n"
          ],
          "name": "stdout"
        },
        {
          "output_type": "display_data",
          "data": {
            "image/png": "[encoded data removed]",
            "text/plain": [
              "<Figure size 432x288 with 2 Axes>"
            ]
          },
          "metadata": {
            "tags": [],
            "needs_background": "light"
          }
        },
        {
          "output_type": "stream",
          "text": [
            "input = c est un jeune directeur plein de talent .\n",
            "output = he s a very young . <EOS>\n"
          ],
          "name": "stdout"
        },
        {
          "output_type": "display_data",
          "data": {
            "image/png": "[encoded data removed]",
            "text/plain": [
              "<Figure size 432x288 with 2 Axes>"
            ]
          },
          "metadata": {
            "tags": [],
            "needs_background": "light"
          }
        }
      ]
    },
    {
      "cell_type": "code",
      "metadata": {
        "id": "SWHQNex2vKzv",
        "colab_type": "code",
        "colab": {}
      },
      "source": [
        "%matplotlib inline"
      ],
      "execution_count": 0,
      "outputs": []
    },
    {
      "cell_type": "code",
      "metadata": {
        "id": "PinU4DCpvP35",
        "colab_type": "code",
        "colab": {}
      },
      "source": [
        ""
      ],
      "execution_count": 0,
      "outputs": []
    }
  ]
}